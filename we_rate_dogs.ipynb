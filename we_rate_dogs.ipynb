{
 "cells": [
  {
   "cell_type": "markdown",
   "metadata": {},
   "source": [
    "\n",
    "# Project: We Rate Dogs Data Cleaning\n",
    "Richard"
   ]
  },
  {
   "cell_type": "markdown",
   "metadata": {},
   "source": [
    "# Gathering Data"
   ]
  },
  {
   "cell_type": "code",
   "execution_count": 1,
   "metadata": {},
   "outputs": [],
   "source": [
    "#Import packages used. \n",
    "%matplotlib inline\n",
    "import matplotlib.pyplot as plt\n",
    "import pandas as pd\n",
    "import json \n",
    "import requests\n",
    "import tweepy\n",
    "from tweepy import OAuthHandler\n",
    "from timeit import default_timer as timer"
   ]
  },
  {
   "cell_type": "code",
   "execution_count": 2,
   "metadata": {},
   "outputs": [],
   "source": [
    "# Load file from folder\n",
    "tweets = pd.read_csv('twitter-archive-enhanced.csv')"
   ]
  },
  {
   "cell_type": "code",
   "execution_count": 3,
   "metadata": {},
   "outputs": [],
   "source": [
    "# Assign URL to response using requests\n",
    "url = ' https://d17h27t6h515a5.cloudfront.net/topher/2017/August/599fd2ad_image-predictions/image-predictions.tsv'\n",
    "response = requests.get(url)\n",
    "# Download to current folder\n",
    "open(url.split('/')[-1], 'wb').write(response.content)\n",
    "predictions = pd.read_csv(url.split('/')[-1], sep='\\t')"
   ]
  },
  {
   "cell_type": "code",
   "execution_count": null,
   "metadata": {
    "scrolled": true
   },
   "outputs": [],
   "source": [
    "#Twitter API\n",
    "# Keys are hidden. You can obtain your own from twitter or just use the 'tweet_json.txt' file\n",
    "api_key = 'HIDDEN'\n",
    "api_secret = 'HIDDEN'\n",
    "access_token = 'HIDDEN'\n",
    "access_secret = 'HIDDEN'\n",
    "\n",
    "auth = tweepy.OAuthHandler(api_key, api_secret)\n",
    "auth.set_access_token(access_token, access_secret)\n",
    "api = tweepy.API(auth, wait_on_rate_limit= True, wait_on_rate_limit_notify=True)\n",
    "\n",
    "# Query Twitter's API for JSON data for each tweet ID in the Twitter archive\n",
    "tweet_ids = list(tweets.tweet_id)\n",
    "twitter_query = {}\n",
    "fails = {}\n",
    "# Appending dictionaries to twitter_query\n",
    "start = timer() #Timing how long the loop takes\n",
    "for id in tweet_ids:\n",
    "    try:\n",
    "        tweet = api.get_status(id, tweet_mode='extended')\n",
    "        twitter_query[id] = tweet._json \n",
    "    except tweepy.TweepError as error:\n",
    "        fails[id] = error\n",
    "        pass\n",
    "end = timer()\n",
    "print(end - start)\n",
    "# Loading JSON into file \n",
    "with open('tweet_json.txt', 'w') as file:\n",
    "    json.dump(twitter_query , file)"
   ]
  },
  {
   "cell_type": "code",
   "execution_count": 4,
   "metadata": {
    "scrolled": true
   },
   "outputs": [],
   "source": [
    "with open('tweet_json.txt') as json_file:\n",
    "    data = json.load(json_file)\n",
    "# Create Dictionary twitter_data from file\n",
    "twitter_data = []\n",
    "for id in data.keys():\n",
    "    retweets = data[id]['retweet_count']\n",
    "    likes = data[id]['favorite_count']\n",
    "    twitter_data.append({'tweet_id' : id,\n",
    "                       \"retweets\" : retweets,\n",
    "                         \"likes\" : likes})\n",
    "# Turn into pandas df\n",
    "twitter_data = pd.DataFrame(twitter_data)"
   ]
  },
  {
   "cell_type": "markdown",
   "metadata": {},
   "source": [
    "# Assessing Data"
   ]
  },
  {
   "cell_type": "code",
   "execution_count": 5,
   "metadata": {},
   "outputs": [
    {
     "data": {
      "text/html": [
       "<div>\n",
       "<style scoped>\n",
       "    .dataframe tbody tr th:only-of-type {\n",
       "        vertical-align: middle;\n",
       "    }\n",
       "\n",
       "    .dataframe tbody tr th {\n",
       "        vertical-align: top;\n",
       "    }\n",
       "\n",
       "    .dataframe thead th {\n",
       "        text-align: right;\n",
       "    }\n",
       "</style>\n",
       "<table border=\"1\" class=\"dataframe\">\n",
       "  <thead>\n",
       "    <tr style=\"text-align: right;\">\n",
       "      <th></th>\n",
       "      <th>tweet_id</th>\n",
       "      <th>in_reply_to_status_id</th>\n",
       "      <th>in_reply_to_user_id</th>\n",
       "      <th>timestamp</th>\n",
       "      <th>source</th>\n",
       "      <th>text</th>\n",
       "      <th>retweeted_status_id</th>\n",
       "      <th>retweeted_status_user_id</th>\n",
       "      <th>retweeted_status_timestamp</th>\n",
       "      <th>expanded_urls</th>\n",
       "      <th>rating_numerator</th>\n",
       "      <th>rating_denominator</th>\n",
       "      <th>name</th>\n",
       "      <th>doggo</th>\n",
       "      <th>floofer</th>\n",
       "      <th>pupper</th>\n",
       "      <th>puppo</th>\n",
       "    </tr>\n",
       "  </thead>\n",
       "  <tbody>\n",
       "    <tr>\n",
       "      <th>19</th>\n",
       "      <td>888202515573088257</td>\n",
       "      <td>NaN</td>\n",
       "      <td>NaN</td>\n",
       "      <td>2017-07-21 01:02:36 +0000</td>\n",
       "      <td>&lt;a href=\"http://twitter.com/download/iphone\" r...</td>\n",
       "      <td>RT @dog_rates: This is Canela. She attempted s...</td>\n",
       "      <td>8.874740e+17</td>\n",
       "      <td>4.196984e+09</td>\n",
       "      <td>2017-07-19 00:47:34 +0000</td>\n",
       "      <td>https://twitter.com/dog_rates/status/887473957...</td>\n",
       "      <td>13</td>\n",
       "      <td>10</td>\n",
       "      <td>Canela</td>\n",
       "      <td>None</td>\n",
       "      <td>None</td>\n",
       "      <td>None</td>\n",
       "      <td>None</td>\n",
       "    </tr>\n",
       "    <tr>\n",
       "      <th>32</th>\n",
       "      <td>886054160059072513</td>\n",
       "      <td>NaN</td>\n",
       "      <td>NaN</td>\n",
       "      <td>2017-07-15 02:45:48 +0000</td>\n",
       "      <td>&lt;a href=\"http://twitter.com/download/iphone\" r...</td>\n",
       "      <td>RT @Athletics: 12/10 #BATP https://t.co/WxwJmv...</td>\n",
       "      <td>8.860537e+17</td>\n",
       "      <td>1.960740e+07</td>\n",
       "      <td>2017-07-15 02:44:07 +0000</td>\n",
       "      <td>https://twitter.com/dog_rates/status/886053434...</td>\n",
       "      <td>12</td>\n",
       "      <td>10</td>\n",
       "      <td>None</td>\n",
       "      <td>None</td>\n",
       "      <td>None</td>\n",
       "      <td>None</td>\n",
       "      <td>None</td>\n",
       "    </tr>\n",
       "    <tr>\n",
       "      <th>36</th>\n",
       "      <td>885311592912609280</td>\n",
       "      <td>NaN</td>\n",
       "      <td>NaN</td>\n",
       "      <td>2017-07-13 01:35:06 +0000</td>\n",
       "      <td>&lt;a href=\"http://twitter.com/download/iphone\" r...</td>\n",
       "      <td>RT @dog_rates: This is Lilly. She just paralle...</td>\n",
       "      <td>8.305833e+17</td>\n",
       "      <td>4.196984e+09</td>\n",
       "      <td>2017-02-12 01:04:29 +0000</td>\n",
       "      <td>https://twitter.com/dog_rates/status/830583320...</td>\n",
       "      <td>13</td>\n",
       "      <td>10</td>\n",
       "      <td>Lilly</td>\n",
       "      <td>None</td>\n",
       "      <td>None</td>\n",
       "      <td>None</td>\n",
       "      <td>None</td>\n",
       "    </tr>\n",
       "    <tr>\n",
       "      <th>68</th>\n",
       "      <td>879130579576475649</td>\n",
       "      <td>NaN</td>\n",
       "      <td>NaN</td>\n",
       "      <td>2017-06-26 00:13:58 +0000</td>\n",
       "      <td>&lt;a href=\"http://twitter.com/download/iphone\" r...</td>\n",
       "      <td>RT @dog_rates: This is Emmy. She was adopted t...</td>\n",
       "      <td>8.780576e+17</td>\n",
       "      <td>4.196984e+09</td>\n",
       "      <td>2017-06-23 01:10:23 +0000</td>\n",
       "      <td>https://twitter.com/dog_rates/status/878057613...</td>\n",
       "      <td>14</td>\n",
       "      <td>10</td>\n",
       "      <td>Emmy</td>\n",
       "      <td>None</td>\n",
       "      <td>None</td>\n",
       "      <td>None</td>\n",
       "      <td>None</td>\n",
       "    </tr>\n",
       "    <tr>\n",
       "      <th>73</th>\n",
       "      <td>878404777348136964</td>\n",
       "      <td>NaN</td>\n",
       "      <td>NaN</td>\n",
       "      <td>2017-06-24 00:09:53 +0000</td>\n",
       "      <td>&lt;a href=\"http://twitter.com/download/iphone\" r...</td>\n",
       "      <td>RT @dog_rates: Meet Shadow. In an attempt to r...</td>\n",
       "      <td>8.782815e+17</td>\n",
       "      <td>4.196984e+09</td>\n",
       "      <td>2017-06-23 16:00:04 +0000</td>\n",
       "      <td>https://www.gofundme.com/3yd6y1c,https://twitt...</td>\n",
       "      <td>13</td>\n",
       "      <td>10</td>\n",
       "      <td>Shadow</td>\n",
       "      <td>None</td>\n",
       "      <td>None</td>\n",
       "      <td>None</td>\n",
       "      <td>None</td>\n",
       "    </tr>\n",
       "    <tr>\n",
       "      <th>...</th>\n",
       "      <td>...</td>\n",
       "      <td>...</td>\n",
       "      <td>...</td>\n",
       "      <td>...</td>\n",
       "      <td>...</td>\n",
       "      <td>...</td>\n",
       "      <td>...</td>\n",
       "      <td>...</td>\n",
       "      <td>...</td>\n",
       "      <td>...</td>\n",
       "      <td>...</td>\n",
       "      <td>...</td>\n",
       "      <td>...</td>\n",
       "      <td>...</td>\n",
       "      <td>...</td>\n",
       "      <td>...</td>\n",
       "      <td>...</td>\n",
       "    </tr>\n",
       "    <tr>\n",
       "      <th>1023</th>\n",
       "      <td>746521445350707200</td>\n",
       "      <td>NaN</td>\n",
       "      <td>NaN</td>\n",
       "      <td>2016-06-25 01:52:36 +0000</td>\n",
       "      <td>&lt;a href=\"http://twitter.com/download/iphone\" r...</td>\n",
       "      <td>RT @dog_rates: This is Shaggy. He knows exactl...</td>\n",
       "      <td>6.678667e+17</td>\n",
       "      <td>4.196984e+09</td>\n",
       "      <td>2015-11-21 00:46:50 +0000</td>\n",
       "      <td>https://twitter.com/dog_rates/status/667866724...</td>\n",
       "      <td>10</td>\n",
       "      <td>10</td>\n",
       "      <td>Shaggy</td>\n",
       "      <td>None</td>\n",
       "      <td>None</td>\n",
       "      <td>None</td>\n",
       "      <td>None</td>\n",
       "    </tr>\n",
       "    <tr>\n",
       "      <th>1043</th>\n",
       "      <td>743835915802583040</td>\n",
       "      <td>NaN</td>\n",
       "      <td>NaN</td>\n",
       "      <td>2016-06-17 16:01:16 +0000</td>\n",
       "      <td>&lt;a href=\"http://twitter.com/download/iphone\" r...</td>\n",
       "      <td>RT @dog_rates: Extremely intelligent dog here....</td>\n",
       "      <td>6.671383e+17</td>\n",
       "      <td>4.196984e+09</td>\n",
       "      <td>2015-11-19 00:32:12 +0000</td>\n",
       "      <td>https://twitter.com/dog_rates/status/667138269...</td>\n",
       "      <td>10</td>\n",
       "      <td>10</td>\n",
       "      <td>None</td>\n",
       "      <td>None</td>\n",
       "      <td>None</td>\n",
       "      <td>None</td>\n",
       "      <td>None</td>\n",
       "    </tr>\n",
       "    <tr>\n",
       "      <th>1242</th>\n",
       "      <td>711998809858043904</td>\n",
       "      <td>NaN</td>\n",
       "      <td>NaN</td>\n",
       "      <td>2016-03-21 19:31:59 +0000</td>\n",
       "      <td>&lt;a href=\"http://twitter.com/download/iphone\" r...</td>\n",
       "      <td>RT @twitter: @dog_rates Awesome Tweet! 12/10. ...</td>\n",
       "      <td>7.119983e+17</td>\n",
       "      <td>7.832140e+05</td>\n",
       "      <td>2016-03-21 19:29:52 +0000</td>\n",
       "      <td>https://twitter.com/twitter/status/71199827977...</td>\n",
       "      <td>12</td>\n",
       "      <td>10</td>\n",
       "      <td>None</td>\n",
       "      <td>None</td>\n",
       "      <td>None</td>\n",
       "      <td>None</td>\n",
       "      <td>None</td>\n",
       "    </tr>\n",
       "    <tr>\n",
       "      <th>2259</th>\n",
       "      <td>667550904950915073</td>\n",
       "      <td>NaN</td>\n",
       "      <td>NaN</td>\n",
       "      <td>2015-11-20 03:51:52 +0000</td>\n",
       "      <td>&lt;a href=\"http://twitter.com\" rel=\"nofollow\"&gt;Tw...</td>\n",
       "      <td>RT @dogratingrating: Exceptional talent. Origi...</td>\n",
       "      <td>6.675487e+17</td>\n",
       "      <td>4.296832e+09</td>\n",
       "      <td>2015-11-20 03:43:06 +0000</td>\n",
       "      <td>https://twitter.com/dogratingrating/status/667...</td>\n",
       "      <td>12</td>\n",
       "      <td>10</td>\n",
       "      <td>None</td>\n",
       "      <td>None</td>\n",
       "      <td>None</td>\n",
       "      <td>None</td>\n",
       "      <td>None</td>\n",
       "    </tr>\n",
       "    <tr>\n",
       "      <th>2260</th>\n",
       "      <td>667550882905632768</td>\n",
       "      <td>NaN</td>\n",
       "      <td>NaN</td>\n",
       "      <td>2015-11-20 03:51:47 +0000</td>\n",
       "      <td>&lt;a href=\"http://twitter.com\" rel=\"nofollow\"&gt;Tw...</td>\n",
       "      <td>RT @dogratingrating: Unoriginal idea. Blatant ...</td>\n",
       "      <td>6.675484e+17</td>\n",
       "      <td>4.296832e+09</td>\n",
       "      <td>2015-11-20 03:41:59 +0000</td>\n",
       "      <td>https://twitter.com/dogratingrating/status/667...</td>\n",
       "      <td>5</td>\n",
       "      <td>10</td>\n",
       "      <td>None</td>\n",
       "      <td>None</td>\n",
       "      <td>None</td>\n",
       "      <td>None</td>\n",
       "      <td>None</td>\n",
       "    </tr>\n",
       "  </tbody>\n",
       "</table>\n",
       "<p>181 rows × 17 columns</p>\n",
       "</div>"
      ],
      "text/plain": [
       "                tweet_id  in_reply_to_status_id  in_reply_to_user_id  \\\n",
       "19    888202515573088257                    NaN                  NaN   \n",
       "32    886054160059072513                    NaN                  NaN   \n",
       "36    885311592912609280                    NaN                  NaN   \n",
       "68    879130579576475649                    NaN                  NaN   \n",
       "73    878404777348136964                    NaN                  NaN   \n",
       "...                  ...                    ...                  ...   \n",
       "1023  746521445350707200                    NaN                  NaN   \n",
       "1043  743835915802583040                    NaN                  NaN   \n",
       "1242  711998809858043904                    NaN                  NaN   \n",
       "2259  667550904950915073                    NaN                  NaN   \n",
       "2260  667550882905632768                    NaN                  NaN   \n",
       "\n",
       "                      timestamp  \\\n",
       "19    2017-07-21 01:02:36 +0000   \n",
       "32    2017-07-15 02:45:48 +0000   \n",
       "36    2017-07-13 01:35:06 +0000   \n",
       "68    2017-06-26 00:13:58 +0000   \n",
       "73    2017-06-24 00:09:53 +0000   \n",
       "...                         ...   \n",
       "1023  2016-06-25 01:52:36 +0000   \n",
       "1043  2016-06-17 16:01:16 +0000   \n",
       "1242  2016-03-21 19:31:59 +0000   \n",
       "2259  2015-11-20 03:51:52 +0000   \n",
       "2260  2015-11-20 03:51:47 +0000   \n",
       "\n",
       "                                                 source  \\\n",
       "19    <a href=\"http://twitter.com/download/iphone\" r...   \n",
       "32    <a href=\"http://twitter.com/download/iphone\" r...   \n",
       "36    <a href=\"http://twitter.com/download/iphone\" r...   \n",
       "68    <a href=\"http://twitter.com/download/iphone\" r...   \n",
       "73    <a href=\"http://twitter.com/download/iphone\" r...   \n",
       "...                                                 ...   \n",
       "1023  <a href=\"http://twitter.com/download/iphone\" r...   \n",
       "1043  <a href=\"http://twitter.com/download/iphone\" r...   \n",
       "1242  <a href=\"http://twitter.com/download/iphone\" r...   \n",
       "2259  <a href=\"http://twitter.com\" rel=\"nofollow\">Tw...   \n",
       "2260  <a href=\"http://twitter.com\" rel=\"nofollow\">Tw...   \n",
       "\n",
       "                                                   text  retweeted_status_id  \\\n",
       "19    RT @dog_rates: This is Canela. She attempted s...         8.874740e+17   \n",
       "32    RT @Athletics: 12/10 #BATP https://t.co/WxwJmv...         8.860537e+17   \n",
       "36    RT @dog_rates: This is Lilly. She just paralle...         8.305833e+17   \n",
       "68    RT @dog_rates: This is Emmy. She was adopted t...         8.780576e+17   \n",
       "73    RT @dog_rates: Meet Shadow. In an attempt to r...         8.782815e+17   \n",
       "...                                                 ...                  ...   \n",
       "1023  RT @dog_rates: This is Shaggy. He knows exactl...         6.678667e+17   \n",
       "1043  RT @dog_rates: Extremely intelligent dog here....         6.671383e+17   \n",
       "1242  RT @twitter: @dog_rates Awesome Tweet! 12/10. ...         7.119983e+17   \n",
       "2259  RT @dogratingrating: Exceptional talent. Origi...         6.675487e+17   \n",
       "2260  RT @dogratingrating: Unoriginal idea. Blatant ...         6.675484e+17   \n",
       "\n",
       "      retweeted_status_user_id retweeted_status_timestamp  \\\n",
       "19                4.196984e+09  2017-07-19 00:47:34 +0000   \n",
       "32                1.960740e+07  2017-07-15 02:44:07 +0000   \n",
       "36                4.196984e+09  2017-02-12 01:04:29 +0000   \n",
       "68                4.196984e+09  2017-06-23 01:10:23 +0000   \n",
       "73                4.196984e+09  2017-06-23 16:00:04 +0000   \n",
       "...                        ...                        ...   \n",
       "1023              4.196984e+09  2015-11-21 00:46:50 +0000   \n",
       "1043              4.196984e+09  2015-11-19 00:32:12 +0000   \n",
       "1242              7.832140e+05  2016-03-21 19:29:52 +0000   \n",
       "2259              4.296832e+09  2015-11-20 03:43:06 +0000   \n",
       "2260              4.296832e+09  2015-11-20 03:41:59 +0000   \n",
       "\n",
       "                                          expanded_urls  rating_numerator  \\\n",
       "19    https://twitter.com/dog_rates/status/887473957...                13   \n",
       "32    https://twitter.com/dog_rates/status/886053434...                12   \n",
       "36    https://twitter.com/dog_rates/status/830583320...                13   \n",
       "68    https://twitter.com/dog_rates/status/878057613...                14   \n",
       "73    https://www.gofundme.com/3yd6y1c,https://twitt...                13   \n",
       "...                                                 ...               ...   \n",
       "1023  https://twitter.com/dog_rates/status/667866724...                10   \n",
       "1043  https://twitter.com/dog_rates/status/667138269...                10   \n",
       "1242  https://twitter.com/twitter/status/71199827977...                12   \n",
       "2259  https://twitter.com/dogratingrating/status/667...                12   \n",
       "2260  https://twitter.com/dogratingrating/status/667...                 5   \n",
       "\n",
       "      rating_denominator    name doggo floofer pupper puppo  \n",
       "19                    10  Canela  None    None   None  None  \n",
       "32                    10    None  None    None   None  None  \n",
       "36                    10   Lilly  None    None   None  None  \n",
       "68                    10    Emmy  None    None   None  None  \n",
       "73                    10  Shadow  None    None   None  None  \n",
       "...                  ...     ...   ...     ...    ...   ...  \n",
       "1023                  10  Shaggy  None    None   None  None  \n",
       "1043                  10    None  None    None   None  None  \n",
       "1242                  10    None  None    None   None  None  \n",
       "2259                  10    None  None    None   None  None  \n",
       "2260                  10    None  None    None   None  None  \n",
       "\n",
       "[181 rows x 17 columns]"
      ]
     },
     "execution_count": 5,
     "metadata": {},
     "output_type": "execute_result"
    }
   ],
   "source": [
    "# Retweets are creating extra ratings. \n",
    "tweets[tweets.retweeted_status_id.notnull()]"
   ]
  },
  {
   "cell_type": "code",
   "execution_count": 6,
   "metadata": {},
   "outputs": [
    {
     "name": "stdout",
     "output_type": "stream",
     "text": [
      "<class 'pandas.core.frame.DataFrame'>\n",
      "RangeIndex: 2356 entries, 0 to 2355\n",
      "Data columns (total 17 columns):\n",
      " #   Column                      Non-Null Count  Dtype  \n",
      "---  ------                      --------------  -----  \n",
      " 0   tweet_id                    2356 non-null   int64  \n",
      " 1   in_reply_to_status_id       78 non-null     float64\n",
      " 2   in_reply_to_user_id         78 non-null     float64\n",
      " 3   timestamp                   2356 non-null   object \n",
      " 4   source                      2356 non-null   object \n",
      " 5   text                        2356 non-null   object \n",
      " 6   retweeted_status_id         181 non-null    float64\n",
      " 7   retweeted_status_user_id    181 non-null    float64\n",
      " 8   retweeted_status_timestamp  181 non-null    object \n",
      " 9   expanded_urls               2297 non-null   object \n",
      " 10  rating_numerator            2356 non-null   int64  \n",
      " 11  rating_denominator          2356 non-null   int64  \n",
      " 12  name                        2356 non-null   object \n",
      " 13  doggo                       2356 non-null   object \n",
      " 14  floofer                     2356 non-null   object \n",
      " 15  pupper                      2356 non-null   object \n",
      " 16  puppo                       2356 non-null   object \n",
      "dtypes: float64(4), int64(3), object(10)\n",
      "memory usage: 313.0+ KB\n"
     ]
    }
   ],
   "source": [
    "# Null Values, Incorrect Dtypes.\n",
    "tweets.info()"
   ]
  },
  {
   "cell_type": "code",
   "execution_count": 7,
   "metadata": {
    "scrolled": true
   },
   "outputs": [
    {
     "data": {
      "text/plain": [
       "12      558\n",
       "11      464\n",
       "10      461\n",
       "13      351\n",
       "9       158\n",
       "8       102\n",
       "7        55\n",
       "14       54\n",
       "5        37\n",
       "6        32\n",
       "3        19\n",
       "4        17\n",
       "1         9\n",
       "2         9\n",
       "420       2\n",
       "0         2\n",
       "15        2\n",
       "75        2\n",
       "80        1\n",
       "20        1\n",
       "24        1\n",
       "26        1\n",
       "44        1\n",
       "50        1\n",
       "60        1\n",
       "165       1\n",
       "84        1\n",
       "88        1\n",
       "144       1\n",
       "182       1\n",
       "143       1\n",
       "666       1\n",
       "960       1\n",
       "1776      1\n",
       "17        1\n",
       "27        1\n",
       "45        1\n",
       "99        1\n",
       "121       1\n",
       "204       1\n",
       "Name: rating_numerator, dtype: int64"
      ]
     },
     "execution_count": 7,
     "metadata": {},
     "output_type": "execute_result"
    }
   ],
   "source": [
    "# Notice the ratings under 10 (Does not comply with rating standards)\n",
    "tweets.rating_numerator.value_counts()"
   ]
  },
  {
   "cell_type": "code",
   "execution_count": 8,
   "metadata": {
    "scrolled": true
   },
   "outputs": [
    {
     "data": {
      "text/plain": [
       "10     2333\n",
       "11        3\n",
       "50        3\n",
       "80        2\n",
       "20        2\n",
       "2         1\n",
       "16        1\n",
       "40        1\n",
       "70        1\n",
       "15        1\n",
       "90        1\n",
       "110       1\n",
       "120       1\n",
       "130       1\n",
       "150       1\n",
       "170       1\n",
       "7         1\n",
       "0         1\n",
       "Name: rating_denominator, dtype: int64"
      ]
     },
     "execution_count": 8,
     "metadata": {},
     "output_type": "execute_result"
    }
   ],
   "source": [
    "# Notice the denominators above 10\n",
    "tweets.rating_denominator.value_counts()"
   ]
  },
  {
   "cell_type": "code",
   "execution_count": 9,
   "metadata": {},
   "outputs": [
    {
     "data": {
      "text/plain": [
       "None         745\n",
       "a             55\n",
       "Charlie       12\n",
       "Cooper        11\n",
       "Oliver        11\n",
       "            ... \n",
       "Scruffers      1\n",
       "Chesney        1\n",
       "Rupert         1\n",
       "Jockson        1\n",
       "Tessa          1\n",
       "Name: name, Length: 957, dtype: int64"
      ]
     },
     "execution_count": 9,
     "metadata": {},
     "output_type": "execute_result"
    }
   ],
   "source": [
    "# Some dogs have 'None' and 'a' as a name\n",
    "tweets.name.value_counts()"
   ]
  },
  {
   "cell_type": "code",
   "execution_count": 10,
   "metadata": {
    "scrolled": true
   },
   "outputs": [
    {
     "name": "stdout",
     "output_type": "stream",
     "text": [
      "<class 'pandas.core.frame.DataFrame'>\n",
      "RangeIndex: 2075 entries, 0 to 2074\n",
      "Data columns (total 12 columns):\n",
      " #   Column    Non-Null Count  Dtype  \n",
      "---  ------    --------------  -----  \n",
      " 0   tweet_id  2075 non-null   int64  \n",
      " 1   jpg_url   2075 non-null   object \n",
      " 2   img_num   2075 non-null   int64  \n",
      " 3   p1        2075 non-null   object \n",
      " 4   p1_conf   2075 non-null   float64\n",
      " 5   p1_dog    2075 non-null   bool   \n",
      " 6   p2        2075 non-null   object \n",
      " 7   p2_conf   2075 non-null   float64\n",
      " 8   p2_dog    2075 non-null   bool   \n",
      " 9   p3        2075 non-null   object \n",
      " 10  p3_conf   2075 non-null   float64\n",
      " 11  p3_dog    2075 non-null   bool   \n",
      "dtypes: bool(3), float64(3), int64(2), object(4)\n",
      "memory usage: 152.1+ KB\n"
     ]
    }
   ],
   "source": [
    "predictions.info()"
   ]
  },
  {
   "cell_type": "code",
   "execution_count": 11,
   "metadata": {},
   "outputs": [
    {
     "data": {
      "text/plain": [
       "<bound method IndexOpsMixin.value_counts of 0       Welsh_springer_spaniel\n",
       "1                      redbone\n",
       "2              German_shepherd\n",
       "3          Rhodesian_ridgeback\n",
       "4           miniature_pinscher\n",
       "                 ...          \n",
       "2070                    basset\n",
       "2071               paper_towel\n",
       "2072                 Chihuahua\n",
       "2073                 Chihuahua\n",
       "2074                    orange\n",
       "Name: p1, Length: 2075, dtype: object>"
      ]
     },
     "execution_count": 11,
     "metadata": {},
     "output_type": "execute_result"
    }
   ],
   "source": [
    "# Wierd dog predictions: paper_towel, orange\n",
    "predictions.p1.value_counts"
   ]
  },
  {
   "cell_type": "code",
   "execution_count": 12,
   "metadata": {},
   "outputs": [
    {
     "data": {
      "text/html": [
       "<div>\n",
       "<style scoped>\n",
       "    .dataframe tbody tr th:only-of-type {\n",
       "        vertical-align: middle;\n",
       "    }\n",
       "\n",
       "    .dataframe tbody tr th {\n",
       "        vertical-align: top;\n",
       "    }\n",
       "\n",
       "    .dataframe thead th {\n",
       "        text-align: right;\n",
       "    }\n",
       "</style>\n",
       "<table border=\"1\" class=\"dataframe\">\n",
       "  <thead>\n",
       "    <tr style=\"text-align: right;\">\n",
       "      <th></th>\n",
       "      <th>tweet_id</th>\n",
       "      <th>in_reply_to_status_id</th>\n",
       "      <th>in_reply_to_user_id</th>\n",
       "      <th>timestamp</th>\n",
       "      <th>source</th>\n",
       "      <th>text</th>\n",
       "      <th>retweeted_status_id</th>\n",
       "      <th>retweeted_status_user_id</th>\n",
       "      <th>retweeted_status_timestamp</th>\n",
       "      <th>expanded_urls</th>\n",
       "      <th>rating_numerator</th>\n",
       "      <th>rating_denominator</th>\n",
       "      <th>name</th>\n",
       "      <th>doggo</th>\n",
       "      <th>floofer</th>\n",
       "      <th>pupper</th>\n",
       "      <th>puppo</th>\n",
       "    </tr>\n",
       "  </thead>\n",
       "  <tbody>\n",
       "    <tr>\n",
       "      <th>0</th>\n",
       "      <td>892420643555336193</td>\n",
       "      <td>NaN</td>\n",
       "      <td>NaN</td>\n",
       "      <td>2017-08-01 16:23:56 +0000</td>\n",
       "      <td>&lt;a href=\"http://twitter.com/download/iphone\" r...</td>\n",
       "      <td>This is Phineas. He's a mystical boy. Only eve...</td>\n",
       "      <td>NaN</td>\n",
       "      <td>NaN</td>\n",
       "      <td>NaN</td>\n",
       "      <td>https://twitter.com/dog_rates/status/892420643...</td>\n",
       "      <td>13</td>\n",
       "      <td>10</td>\n",
       "      <td>Phineas</td>\n",
       "      <td>None</td>\n",
       "      <td>None</td>\n",
       "      <td>None</td>\n",
       "      <td>None</td>\n",
       "    </tr>\n",
       "    <tr>\n",
       "      <th>1</th>\n",
       "      <td>892177421306343426</td>\n",
       "      <td>NaN</td>\n",
       "      <td>NaN</td>\n",
       "      <td>2017-08-01 00:17:27 +0000</td>\n",
       "      <td>&lt;a href=\"http://twitter.com/download/iphone\" r...</td>\n",
       "      <td>This is Tilly. She's just checking pup on you....</td>\n",
       "      <td>NaN</td>\n",
       "      <td>NaN</td>\n",
       "      <td>NaN</td>\n",
       "      <td>https://twitter.com/dog_rates/status/892177421...</td>\n",
       "      <td>13</td>\n",
       "      <td>10</td>\n",
       "      <td>Tilly</td>\n",
       "      <td>None</td>\n",
       "      <td>None</td>\n",
       "      <td>None</td>\n",
       "      <td>None</td>\n",
       "    </tr>\n",
       "    <tr>\n",
       "      <th>2</th>\n",
       "      <td>891815181378084864</td>\n",
       "      <td>NaN</td>\n",
       "      <td>NaN</td>\n",
       "      <td>2017-07-31 00:18:03 +0000</td>\n",
       "      <td>&lt;a href=\"http://twitter.com/download/iphone\" r...</td>\n",
       "      <td>This is Archie. He is a rare Norwegian Pouncin...</td>\n",
       "      <td>NaN</td>\n",
       "      <td>NaN</td>\n",
       "      <td>NaN</td>\n",
       "      <td>https://twitter.com/dog_rates/status/891815181...</td>\n",
       "      <td>12</td>\n",
       "      <td>10</td>\n",
       "      <td>Archie</td>\n",
       "      <td>None</td>\n",
       "      <td>None</td>\n",
       "      <td>None</td>\n",
       "      <td>None</td>\n",
       "    </tr>\n",
       "  </tbody>\n",
       "</table>\n",
       "</div>"
      ],
      "text/plain": [
       "             tweet_id  in_reply_to_status_id  in_reply_to_user_id  \\\n",
       "0  892420643555336193                    NaN                  NaN   \n",
       "1  892177421306343426                    NaN                  NaN   \n",
       "2  891815181378084864                    NaN                  NaN   \n",
       "\n",
       "                   timestamp  \\\n",
       "0  2017-08-01 16:23:56 +0000   \n",
       "1  2017-08-01 00:17:27 +0000   \n",
       "2  2017-07-31 00:18:03 +0000   \n",
       "\n",
       "                                              source  \\\n",
       "0  <a href=\"http://twitter.com/download/iphone\" r...   \n",
       "1  <a href=\"http://twitter.com/download/iphone\" r...   \n",
       "2  <a href=\"http://twitter.com/download/iphone\" r...   \n",
       "\n",
       "                                                text  retweeted_status_id  \\\n",
       "0  This is Phineas. He's a mystical boy. Only eve...                  NaN   \n",
       "1  This is Tilly. She's just checking pup on you....                  NaN   \n",
       "2  This is Archie. He is a rare Norwegian Pouncin...                  NaN   \n",
       "\n",
       "   retweeted_status_user_id retweeted_status_timestamp  \\\n",
       "0                       NaN                        NaN   \n",
       "1                       NaN                        NaN   \n",
       "2                       NaN                        NaN   \n",
       "\n",
       "                                       expanded_urls  rating_numerator  \\\n",
       "0  https://twitter.com/dog_rates/status/892420643...                13   \n",
       "1  https://twitter.com/dog_rates/status/892177421...                13   \n",
       "2  https://twitter.com/dog_rates/status/891815181...                12   \n",
       "\n",
       "   rating_denominator     name doggo floofer pupper puppo  \n",
       "0                  10  Phineas  None    None   None  None  \n",
       "1                  10    Tilly  None    None   None  None  \n",
       "2                  10   Archie  None    None   None  None  "
      ]
     },
     "execution_count": 12,
     "metadata": {},
     "output_type": "execute_result"
    }
   ],
   "source": [
    "#doggo,floofer,pupper,puppo columns are redundant \n",
    "tweets.head(3)"
   ]
  },
  {
   "cell_type": "code",
   "execution_count": 13,
   "metadata": {},
   "outputs": [
    {
     "data": {
      "text/html": [
       "<div>\n",
       "<style scoped>\n",
       "    .dataframe tbody tr th:only-of-type {\n",
       "        vertical-align: middle;\n",
       "    }\n",
       "\n",
       "    .dataframe tbody tr th {\n",
       "        vertical-align: top;\n",
       "    }\n",
       "\n",
       "    .dataframe thead th {\n",
       "        text-align: right;\n",
       "    }\n",
       "</style>\n",
       "<table border=\"1\" class=\"dataframe\">\n",
       "  <thead>\n",
       "    <tr style=\"text-align: right;\">\n",
       "      <th></th>\n",
       "      <th>tweet_id</th>\n",
       "      <th>jpg_url</th>\n",
       "      <th>img_num</th>\n",
       "      <th>p1</th>\n",
       "      <th>p1_conf</th>\n",
       "      <th>p1_dog</th>\n",
       "      <th>p2</th>\n",
       "      <th>p2_conf</th>\n",
       "      <th>p2_dog</th>\n",
       "      <th>p3</th>\n",
       "      <th>p3_conf</th>\n",
       "      <th>p3_dog</th>\n",
       "    </tr>\n",
       "  </thead>\n",
       "  <tbody>\n",
       "    <tr>\n",
       "      <th>0</th>\n",
       "      <td>666020888022790149</td>\n",
       "      <td>https://pbs.twimg.com/media/CT4udn0WwAA0aMy.jpg</td>\n",
       "      <td>1</td>\n",
       "      <td>Welsh_springer_spaniel</td>\n",
       "      <td>0.465074</td>\n",
       "      <td>True</td>\n",
       "      <td>collie</td>\n",
       "      <td>0.156665</td>\n",
       "      <td>True</td>\n",
       "      <td>Shetland_sheepdog</td>\n",
       "      <td>0.061428</td>\n",
       "      <td>True</td>\n",
       "    </tr>\n",
       "    <tr>\n",
       "      <th>1</th>\n",
       "      <td>666029285002620928</td>\n",
       "      <td>https://pbs.twimg.com/media/CT42GRgUYAA5iDo.jpg</td>\n",
       "      <td>1</td>\n",
       "      <td>redbone</td>\n",
       "      <td>0.506826</td>\n",
       "      <td>True</td>\n",
       "      <td>miniature_pinscher</td>\n",
       "      <td>0.074192</td>\n",
       "      <td>True</td>\n",
       "      <td>Rhodesian_ridgeback</td>\n",
       "      <td>0.072010</td>\n",
       "      <td>True</td>\n",
       "    </tr>\n",
       "    <tr>\n",
       "      <th>2</th>\n",
       "      <td>666033412701032449</td>\n",
       "      <td>https://pbs.twimg.com/media/CT4521TWwAEvMyu.jpg</td>\n",
       "      <td>1</td>\n",
       "      <td>German_shepherd</td>\n",
       "      <td>0.596461</td>\n",
       "      <td>True</td>\n",
       "      <td>malinois</td>\n",
       "      <td>0.138584</td>\n",
       "      <td>True</td>\n",
       "      <td>bloodhound</td>\n",
       "      <td>0.116197</td>\n",
       "      <td>True</td>\n",
       "    </tr>\n",
       "    <tr>\n",
       "      <th>3</th>\n",
       "      <td>666044226329800704</td>\n",
       "      <td>https://pbs.twimg.com/media/CT5Dr8HUEAA-lEu.jpg</td>\n",
       "      <td>1</td>\n",
       "      <td>Rhodesian_ridgeback</td>\n",
       "      <td>0.408143</td>\n",
       "      <td>True</td>\n",
       "      <td>redbone</td>\n",
       "      <td>0.360687</td>\n",
       "      <td>True</td>\n",
       "      <td>miniature_pinscher</td>\n",
       "      <td>0.222752</td>\n",
       "      <td>True</td>\n",
       "    </tr>\n",
       "    <tr>\n",
       "      <th>4</th>\n",
       "      <td>666049248165822465</td>\n",
       "      <td>https://pbs.twimg.com/media/CT5IQmsXIAAKY4A.jpg</td>\n",
       "      <td>1</td>\n",
       "      <td>miniature_pinscher</td>\n",
       "      <td>0.560311</td>\n",
       "      <td>True</td>\n",
       "      <td>Rottweiler</td>\n",
       "      <td>0.243682</td>\n",
       "      <td>True</td>\n",
       "      <td>Doberman</td>\n",
       "      <td>0.154629</td>\n",
       "      <td>True</td>\n",
       "    </tr>\n",
       "  </tbody>\n",
       "</table>\n",
       "</div>"
      ],
      "text/plain": [
       "             tweet_id                                          jpg_url  \\\n",
       "0  666020888022790149  https://pbs.twimg.com/media/CT4udn0WwAA0aMy.jpg   \n",
       "1  666029285002620928  https://pbs.twimg.com/media/CT42GRgUYAA5iDo.jpg   \n",
       "2  666033412701032449  https://pbs.twimg.com/media/CT4521TWwAEvMyu.jpg   \n",
       "3  666044226329800704  https://pbs.twimg.com/media/CT5Dr8HUEAA-lEu.jpg   \n",
       "4  666049248165822465  https://pbs.twimg.com/media/CT5IQmsXIAAKY4A.jpg   \n",
       "\n",
       "   img_num                      p1   p1_conf  p1_dog                  p2  \\\n",
       "0        1  Welsh_springer_spaniel  0.465074    True              collie   \n",
       "1        1                 redbone  0.506826    True  miniature_pinscher   \n",
       "2        1         German_shepherd  0.596461    True            malinois   \n",
       "3        1     Rhodesian_ridgeback  0.408143    True             redbone   \n",
       "4        1      miniature_pinscher  0.560311    True          Rottweiler   \n",
       "\n",
       "    p2_conf  p2_dog                   p3   p3_conf  p3_dog  \n",
       "0  0.156665    True    Shetland_sheepdog  0.061428    True  \n",
       "1  0.074192    True  Rhodesian_ridgeback  0.072010    True  \n",
       "2  0.138584    True           bloodhound  0.116197    True  \n",
       "3  0.360687    True   miniature_pinscher  0.222752    True  \n",
       "4  0.243682    True             Doberman  0.154629    True  "
      ]
     },
     "execution_count": 13,
     "metadata": {},
     "output_type": "execute_result"
    }
   ],
   "source": [
    "#Multiple prediction columns\n",
    "predictions.head()"
   ]
  },
  {
   "cell_type": "markdown",
   "metadata": {},
   "source": [
    "# Cleaning Data"
   ]
  },
  {
   "cell_type": "code",
   "execution_count": 14,
   "metadata": {},
   "outputs": [],
   "source": [
    "# Creating copies of the dataframes.\n",
    "tweets_clean = tweets.copy()\n",
    "predictions_clean = predictions.copy()\n",
    "twitter_clean = twitter_data.copy()"
   ]
  },
  {
   "cell_type": "code",
   "execution_count": 15,
   "metadata": {},
   "outputs": [
    {
     "data": {
      "text/plain": [
       "(2278, 17)"
      ]
     },
     "execution_count": 15,
     "metadata": {},
     "output_type": "execute_result"
    }
   ],
   "source": [
    "# Don't want columns where in_reply_to_status_id has values\n",
    "tweets_clean = tweets_clean[tweets_clean['in_reply_to_status_id'].isnull()]\n",
    "tweets_clean.shape"
   ]
  },
  {
   "cell_type": "code",
   "execution_count": 16,
   "metadata": {},
   "outputs": [],
   "source": [
    "# Dropped unwanted columns to remove null values from dataframe\n",
    "tweets_clean = tweets_clean.drop(['in_reply_to_status_id','in_reply_to_user_id',\n",
    "                   'retweeted_status_id','retweeted_status_user_id',\n",
    "                  'retweeted_status_timestamp', 'expanded_urls'],axis = 1)"
   ]
  },
  {
   "cell_type": "code",
   "execution_count": 17,
   "metadata": {},
   "outputs": [],
   "source": [
    "# Changed incorrect datatypes\n",
    "tweets_clean['tweet_id'] = tweets_clean['tweet_id'].astype(str)\n",
    "predictions_clean['tweet_id'] =predictions_clean['tweet_id'].astype(str)\n",
    "tweets_clean['timestamp'] = pd.to_datetime(tweets_clean['timestamp'])"
   ]
  },
  {
   "cell_type": "code",
   "execution_count": 18,
   "metadata": {},
   "outputs": [],
   "source": [
    "# Removed rows with denominator not 10\n",
    "tweets_clean = tweets_clean.query('rating_denominator == 10')\n",
    "# Removed rows with numerator less than 10\n",
    "tweets_clean = tweets_clean.query('rating_numerator >= 10')\n",
    "# Removed dogs with names 'None' and 'a'\n",
    "tweets_clean = tweets_clean[(tweets_clean['name'] != 'None') & (tweets_clean['name'] != 'a')]"
   ]
  },
  {
   "cell_type": "code",
   "execution_count": 19,
   "metadata": {},
   "outputs": [],
   "source": [
    "# Dropped more columns from dataframes\n",
    "tweets_clean = tweets_clean.drop(['source', 'text'],axis = 1)\n",
    "predictions_clean = predictions_clean.drop('img_num', axis = 1)"
   ]
  },
  {
   "cell_type": "code",
   "execution_count": 20,
   "metadata": {},
   "outputs": [],
   "source": [
    "# Create prediction_count, prediction, confidence, and prediction_correct columns\n",
    "# to replace the previous columns to make the dataframe look nicer\n",
    "melt1 = predictions_clean.melt(id_vars=['tweet_id','jpg_url'],value_vars=['p1','p2','p3'],\n",
    "                              var_name = \"prediction_count\",value_name = \"predictions\")\n",
    "melt2 = predictions_clean.melt(id_vars=['tweet_id','jpg_url'], value_vars=['p1_conf','p2_conf','p3_conf'],\n",
    "                              value_name = \"confidence\")\n",
    "melt3 = predictions_clean.melt(id_vars=['tweet_id','jpg_url'], value_vars=['p1_dog','p2_dog','p3_dog'],\n",
    "                              value_name = \"prediction_correct\")\n",
    "predictions_clean = pd.concat([melt1,melt2[\"confidence\"],melt3['prediction_correct']],axis=1)"
   ]
  },
  {
   "cell_type": "code",
   "execution_count": 21,
   "metadata": {},
   "outputs": [],
   "source": [
    "# Loop to remove rows that contain certain key-words in the predictions column \n",
    "wack_predictions = [\"orange\", \"banana\", \"traffic_light\",\"paper_towel\",\"spatula\",\"Cardigan\",\n",
    "                    \"academic_gown\",'trench_coat','cheeseburger','paintbrush']\n",
    "for nonsense in wack_predictions:\n",
    "    predictions_clean = predictions_clean[predictions_clean['predictions'] != nonsense]"
   ]
  },
  {
   "cell_type": "code",
   "execution_count": 22,
   "metadata": {},
   "outputs": [],
   "source": [
    "# Remove doggo, floofer, pupper, puppo columns and create one stage column that contains all the information\n",
    "tweets_cleanish = tweets_clean.melt(id_vars=['tweet_id','timestamp','rating_numerator','rating_denominator','name'],\n",
    "                                  value_name = 'stage')\n",
    "tweets_cleanish = tweets_cleanish[tweets_cleanish['stage'] != 'None']\n",
    "tweets_clean = tweets_clean.merge(tweets_cleanish[['tweet_id','stage']],\n",
    "                                  how = 'left').drop(['doggo','floofer','pupper','puppo'], axis = 1)\n",
    "tweets_clean['stage'] = tweets_clean['stage'].fillna(\"None\")"
   ]
  },
  {
   "cell_type": "code",
   "execution_count": 23,
   "metadata": {},
   "outputs": [],
   "source": [
    "# Merge tweets_clean and twitter_clean dataframes\n",
    "tweets_clean = tweets_clean.merge(twitter_clean, on = ['tweet_id'], how = 'inner')"
   ]
  },
  {
   "cell_type": "code",
   "execution_count": 24,
   "metadata": {},
   "outputs": [],
   "source": [
    "# Saving cleaned files for later\n",
    "tweets_clean.to_csv('twitter_archive_master.csv', index = False)\n",
    "predictions_clean.to_csv('image_predictions_clean.csv', index = False)"
   ]
  },
  {
   "cell_type": "markdown",
   "metadata": {},
   "source": [
    "# Analysis"
   ]
  },
  {
   "cell_type": "code",
   "execution_count": 25,
   "metadata": {},
   "outputs": [],
   "source": [
    "# Read the files that were saved earlier\n",
    "twitter = pd.read_csv('twitter_archive_master.csv')\n",
    "predict = pd.read_csv('image_predictions_clean.csv')"
   ]
  },
  {
   "cell_type": "code",
   "execution_count": 26,
   "metadata": {},
   "outputs": [],
   "source": [
    "# Creating values low_rating and high_rating\n",
    "twitter['rating'] = twitter.rating_numerator/twitter.rating_denominator\n",
    "mean = twitter['rating'].mean()\n",
    "low_rating = twitter[twitter['rating']< mean]\n",
    "high_rating = twitter[twitter['rating'] >= mean]"
   ]
  },
  {
   "cell_type": "code",
   "execution_count": 27,
   "metadata": {
    "scrolled": false
   },
   "outputs": [
    {
     "data": {
      "image/png": "[encoded data removed]",
      "text/plain": [
       "<Figure size 432x288 with 1 Axes>"
      ]
     },
     "metadata": {
      "needs_background": "light"
     },
     "output_type": "display_data"
    }
   ],
   "source": [
    "# Plot bar graph\n",
    "plt.bar([1,2],[low_rating.retweets.mean(),high_rating.retweets.mean()], color = 'b')\n",
    "plt.title(\"Average Amount of Retweets\")\n",
    "plt.ylabel(\"Number of Retweets\")\n",
    "plt.xlabel(\"Average Rating\");"
   ]
  },
  {
   "cell_type": "code",
   "execution_count": 28,
   "metadata": {
    "scrolled": false
   },
   "outputs": [
    {
     "data": {
      "image/png": "[encoded data removed]",
      "text/plain": [
       "<Figure size 432x288 with 1 Axes>"
      ]
     },
     "metadata": {
      "needs_background": "light"
     },
     "output_type": "display_data"
    }
   ],
   "source": [
    "# Getting the average rating for each dog stage\n",
    "likes = []\n",
    "stage = list(set(twitter['stage']))\n",
    "for dog in stage:\n",
    "    dog_stage = twitter[twitter['stage'] == dog]\n",
    "    likes.append(dog_stage.likes.mean())  \n",
    "# Plot bar graph   \n",
    "plt.bar([1,2,3,4,5],likes,tick_label = stage,color = 'pink')\n",
    "plt.title('Average Amount of Likes')\n",
    "plt.ylabel('Likes')\n",
    "plt.xlabel('Dog Stage');"
   ]
  },
  {
   "cell_type": "code",
   "execution_count": 29,
   "metadata": {},
   "outputs": [
    {
     "data": {
      "image/png": "[encoded data removed]",
      "text/plain": [
       "<Figure size 432x288 with 1 Axes>"
      ]
     },
     "metadata": {
      "needs_background": "light"
     },
     "output_type": "display_data"
    }
   ],
   "source": [
    "# Merging master dataframe with predictions dataframe\n",
    "df_merge = twitter.merge(predict)\n",
    "# Getting the prediction probability for each dog group\n",
    "correct = [] \n",
    "for dog in stage:\n",
    "    dog_type = df_merge[df_merge['stage'] == dog]\n",
    "    correct.append(dog_type.prediction_correct.mean())\n",
    "correct\n",
    "# Plot bar graph\n",
    "plt.bar([1,2,3,4,5],correct,tick_label = stage,color = 'r')\n",
    "plt.title('Average Correct Predictions')\n",
    "plt.ylabel('Percentage of Correct Predictions')\n",
    "plt.xlabel('Dog Stage');"
   ]
  },
  {
   "cell_type": "markdown",
   "metadata": {},
   "source": [
    "# Conclusions\n",
    "1. On average dogs with higher ratings also have a higher number of retweets\n",
    "2. Doggo's get the most amount of likes on average \n",
    "3. Floofer and Puppo's are the easiest dog for the algorithim to predict (90% success rate!) "
   ]
  }
 ],
 "metadata": {
  "kernelspec": {
   "display_name": "Python 3",
   "language": "python",
   "name": "python3"
  },
  "language_info": {
   "codemirror_mode": {
    "name": "ipython",
    "version": 3
   },
   "file_extension": ".py",
   "mimetype": "text/x-python",
   "name": "python",
   "nbconvert_exporter": "python",
   "pygments_lexer": "ipython3",
   "version": "3.7.7"
  }
 },
 "nbformat": 4,
 "nbformat_minor": 4
}
